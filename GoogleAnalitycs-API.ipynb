{
 "cells": [
  {
   "cell_type": "markdown",
   "metadata": {},
   "source": [
    "# API - Extraccion de data desde Analitycs"
   ]
  },
  {
   "cell_type": "markdown",
   "metadata": {},
   "source": [
    "### Documentacion de metricas y dimensiones de Google Analitycs \n",
    "\n",
    "[UNIVERSAL ANALITYCS](https://ga-dev-tools.web.app/dimensions-metrics-explorer/)"
   ]
  },
  {
   "cell_type": "markdown",
   "metadata": {},
   "source": [
    "#### Ajustamos los parametros del notebook para visualizar todas las columnas y filas del dataframe"
   ]
  },
  {
   "cell_type": "code",
   "execution_count": 27,
   "metadata": {},
   "outputs": [],
   "source": [
    "pd.set_option('display.max_columns', None)\n",
    "pd.set_option('display.max_rows', None)"
   ]
  },
  {
   "cell_type": "markdown",
   "metadata": {},
   "source": [
    "#### Inicializamos las librerias que utilizaremos en la extracción"
   ]
  },
  {
   "cell_type": "code",
   "execution_count": 1,
   "metadata": {},
   "outputs": [],
   "source": [
    "# -*- coding: utf-8 -*-\n",
    "\"\"\"\n",
    "Created on Fri Oct  1 17:27:00 2021\n",
    "\n",
    "@author: jeff.ibacache\n",
    "\"\"\"\n",
    "\n",
    "import googleapiclient.discovery\n",
    "import pprint\n",
    "import time\n",
    "import os, io\n",
    "import argparse\n",
    "import sys\n",
    "import gspread\n",
    "import pandas as pd\n",
    "import numpy as np\n",
    "import httplib2\n",
    "\n",
    "from io import StringIO\n",
    "from io import BytesIO\n",
    "from googleapiclient import discovery\n",
    "from oauth2client import client\n",
    "from oauth2client import tools\n",
    "from oauth2client.service_account import ServiceAccountCredentials\n",
    "from google.oauth2 import service_account"
   ]
  },
  {
   "cell_type": "markdown",
   "metadata": {},
   "source": [
    "#### Credenciales para acceder a la plataforma Google Analitycs\n",
    "\n",
    " 1. La variable **link** va a contener la dirección de ubicaicón del archivo **.json** que contiene los permisos para acceder a la plataforma via API\n",
    " 2. **VIEW_ID** va a ser el identificador para la vista de datos en la plataforma (en este caso es la vista de data jumbo web)\n",
    " \n",
    "#### Identificadores correspondientes a las 4 unidades de negocio para Cenco:\n",
    "1. ID: 154877638 (jumbo)\n",
    "2. ID: 168222450 (Santa Isabel)\n",
    "3. ID: 119926299 (Paris)\n",
    "4. ID: 235051226 (Easy) "
   ]
  },
  {
   "cell_type": "code",
   "execution_count": 3,
   "metadata": {},
   "outputs": [],
   "source": [
    "link = r'C:/API Analitycs/has-latam-prod-apicm-paris-cl-a3961e1d41e0.json'\n",
    "os.environ['GOOGLE_APPLICATION_CREDENTIALS'] = link\n",
    "\n",
    "OAUTH_SCOPES = ['https://www.googleapis.com/auth/dfareporting',\n",
    "              'https://www.googleapis.com/auth/dfatrafficking',\n",
    "              'https://www.googleapis.com/auth/ddmconversions',\n",
    "              \"https://spreadsheets.google.com/feeds\",\n",
    "              'https://www.googleapis.com/auth/spreadsheets',\n",
    "              \"https://www.googleapis.com/auth/drive.file\",\n",
    "              \"https://www.googleapis.com/auth/drive\",\n",
    "              'https://www.googleapis.com/auth/analytics.readonly']\n",
    "\n",
    "VIEW_ID = '154877638';\n",
    "\n",
    "credentials = service_account.Credentials.from_service_account_file( link, scopes=OAUTH_SCOPES )\n",
    "\n",
    "service = googleapiclient.discovery.build(\n",
    "serviceName='analyticsreporting',\n",
    "version='v4',\n",
    "credentials=credentials)"
   ]
  },
  {
   "cell_type": "markdown",
   "metadata": {},
   "source": [
    "#### Cuerpo del codigo de la extración de data\n",
    "1. metrics y dimensions para indicar cuales serán las metricas y dimensiones que vamos a querer.\n",
    "2. parametro **dateRanges** para el rango de fechas deseados para la extracción\n",
    "3. parametro **includeEmptyRows** permite que la extracción traiga o no filas en blanco\n",
    "4. parametro **pageSize determina** el numero de filas para una hoja de extracción.\n",
    "5. en **final_data** se modifica el directorio destino donde se va a guardar la extración en formato csv"
   ]
  },
  {
   "cell_type": "code",
   "execution_count": 5,
   "metadata": {},
   "outputs": [
    {
     "name": "stdout",
     "output_type": "stream",
     "text": [
      "Handling Report, Page Token: ga360\n"
     ]
    }
   ],
   "source": [
    "def handle_report(pagetoken):\n",
    "    \n",
    "    print('Handling Report, Page Token: ' + pagetoken)\n",
    "\n",
    "    request = service.reports().batchGet(\n",
    "        body={\n",
    "          'reportRequests': [\n",
    "          {\n",
    "            'viewId': VIEW_ID,\n",
    "            'dateRanges': [{'startDate': '2022-01-01', 'endDate': '2022-01-20'}],\n",
    "            'pageToken': pagetoken,\n",
    "            'pageSize': '500000',\n",
    "            \"includeEmptyRows\": True,\n",
    "            'samplingLevel': 'LARGE',      \n",
    "            'metrics': [\n",
    "                {'expression': 'ga:sessions'},\n",
    "                {'expression': 'ga:transactions'},\n",
    "                {'expression': 'ga:itemRevenue'},\n",
    "                #{'expression': 'ga:users'},\n",
    "                #{'expression': 'ga:dbmCost'}\n",
    "            ],\n",
    "            \n",
    "            'dimensions': [\n",
    "                #{'name': 'ga:yearWeek'},\n",
    "                #{'name': 'ga:isoWeek'},\n",
    "                {'name': 'ga:date'},\n",
    "                {'name': 'ga:deviceCategory'},\n",
    "                {'name': 'ga:source'},\n",
    "                {'name': 'ga:medium'},\n",
    "                {'name': 'ga:campaign'},\n",
    "                #{'name': 'ga:dbmLastEventInsertionOrder'},\n",
    "                #{'name': 'ga:sourceMedium'},\n",
    "                \n",
    "            ]\n",
    "          }]\n",
    "        }\n",
    "    )\n",
    "    \n",
    "    response = request.execute()\n",
    "    \n",
    "    final_data = parse_data(response);\n",
    "    \n",
    "    final_data.rename({\n",
    "        \"ga:date\": \"Fecha\",\n",
    "        \"ga:yearMonth\": \"Mes\",\n",
    "        \"ga:campaign\": \"Campaña\",\n",
    "        \"ga:medium\": \"Medium\",\n",
    "        \"ga:users\": \"Usuarios\",\n",
    "        \"ga:sessions\": \"Sesiones\",\n",
    "        \"ga:transactions\": \"Transacciones\",\n",
    "        \"ga:transactionRevenue\": \"Ingresos\"\n",
    "        }, axis=1, inplace=True)\n",
    "    \n",
    "    final_data.to_csv(r'C:/directorio_destino_del_archivo_extraido/data_jumbo_' + pagetoken + '.csv', index = False)\n",
    "\n",
    "    pagetoken = response.get(\"reports\")[0].get('nextPageToken', None)\n",
    "    \n",
    "    if pagetoken != None:\n",
    "          handle_report(pagetoken)\n",
    "            \n",
    "\n",
    "def parse_data(response):\n",
    "\n",
    "    reports = response['reports'][0]\n",
    "    columnHeader = reports['columnHeader']['dimensions']\n",
    "    metricHeader = reports['columnHeader']['metricHeader']['metricHeaderEntries']\n",
    "    \n",
    "    columns = columnHeader\n",
    "    for metric in metricHeader:\n",
    "          columns.append(metric['name'])\n",
    "    \n",
    "    data = pd.json_normalize(reports['data']['rows'])\n",
    "    data_dimensions = pd.DataFrame(data['dimensions'].tolist())\n",
    "    data_metrics = pd.DataFrame(data['metrics'].tolist())\n",
    "    data_metrics = data_metrics.applymap(lambda x: x['values'])\n",
    "    data_metrics = pd.DataFrame(data_metrics[0].tolist())\n",
    "    result = pd.concat([data_dimensions, data_metrics], axis=1, ignore_index=True)\n",
    "    result.columns = columns\n",
    "    \n",
    "    return result\n",
    "\n",
    "handle_report('ga360');"
   ]
  },
  {
   "cell_type": "markdown",
   "metadata": {},
   "source": [
    "#### Importamos la data extraida desde la ubicación que indicamos en el cuerpo del codigo para visualizar la data en un dataframe.\n",
    "\n",
    "1. Cambiamos el tipo de dato de las metricas a variables tipo entero con **.astype(\"int64\")**\n",
    "2. **datos.shape** para ver las dimensiones {filas x columnas}\n",
    "3. funcion **head()** para ver el top 5 de las filas de la extracción"
   ]
  },
  {
   "cell_type": "code",
   "execution_count": 12,
   "metadata": {},
   "outputs": [
    {
     "data": {
      "text/plain": [
       "(15597, 8)"
      ]
     },
     "execution_count": 12,
     "metadata": {},
     "output_type": "execute_result"
    }
   ],
   "source": [
    "datos = pd.read_csv(\"exportaciones/data_jumbo_ga360.csv\")\n",
    "datos[\"Sesiones\"] = datos[\"Sesiones\"].astype(\"int64\")\n",
    "datos[\"Transacciones\"] = datos[\"Transacciones\"].astype(\"int64\")\n",
    "datos[\"ga:itemRevenue\"] = datos[\"ga:itemRevenue\"].astype(\"int64\")\n",
    "datos.shape"
   ]
  },
  {
   "cell_type": "code",
   "execution_count": 13,
   "metadata": {
    "scrolled": true
   },
   "outputs": [
    {
     "data": {
      "text/html": [
       "<div>\n",
       "<style scoped>\n",
       "    .dataframe tbody tr th:only-of-type {\n",
       "        vertical-align: middle;\n",
       "    }\n",
       "\n",
       "    .dataframe tbody tr th {\n",
       "        vertical-align: top;\n",
       "    }\n",
       "\n",
       "    .dataframe thead th {\n",
       "        text-align: right;\n",
       "    }\n",
       "</style>\n",
       "<table border=\"1\" class=\"dataframe\">\n",
       "  <thead>\n",
       "    <tr style=\"text-align: right;\">\n",
       "      <th></th>\n",
       "      <th>Fecha</th>\n",
       "      <th>ga:deviceCategory</th>\n",
       "      <th>ga:source</th>\n",
       "      <th>Medium</th>\n",
       "      <th>Campaña</th>\n",
       "      <th>Sesiones</th>\n",
       "      <th>Transacciones</th>\n",
       "      <th>ga:itemRevenue</th>\n",
       "    </tr>\n",
       "  </thead>\n",
       "  <tbody>\n",
       "    <tr>\n",
       "      <th>0</th>\n",
       "      <td>20220101</td>\n",
       "      <td>desktop</td>\n",
       "      <td>(direct)</td>\n",
       "      <td>(none)</td>\n",
       "      <td>(not set)</td>\n",
       "      <td>5251</td>\n",
       "      <td>416</td>\n",
       "      <td>43103271</td>\n",
       "    </tr>\n",
       "    <tr>\n",
       "      <th>1</th>\n",
       "      <td>20220101</td>\n",
       "      <td>desktop</td>\n",
       "      <td>(not set)</td>\n",
       "      <td>(not set)</td>\n",
       "      <td>(not set)</td>\n",
       "      <td>2</td>\n",
       "      <td>0</td>\n",
       "      <td>0</td>\n",
       "    </tr>\n",
       "    <tr>\n",
       "      <th>2</th>\n",
       "      <td>20220101</td>\n",
       "      <td>desktop</td>\n",
       "      <td>15069727_8175j</td>\n",
       "      <td>email</td>\n",
       "      <td>jumboofertas_03122021</td>\n",
       "      <td>5</td>\n",
       "      <td>2</td>\n",
       "      <td>458678</td>\n",
       "    </tr>\n",
       "    <tr>\n",
       "      <th>3</th>\n",
       "      <td>20220101</td>\n",
       "      <td>desktop</td>\n",
       "      <td>15074217_8176j</td>\n",
       "      <td>email</td>\n",
       "      <td>despachos_06122021</td>\n",
       "      <td>2</td>\n",
       "      <td>0</td>\n",
       "      <td>0</td>\n",
       "    </tr>\n",
       "    <tr>\n",
       "      <th>4</th>\n",
       "      <td>20220101</td>\n",
       "      <td>desktop</td>\n",
       "      <td>15076062_8183j</td>\n",
       "      <td>email</td>\n",
       "      <td>prime_07122021</td>\n",
       "      <td>5</td>\n",
       "      <td>0</td>\n",
       "      <td>0</td>\n",
       "    </tr>\n",
       "  </tbody>\n",
       "</table>\n",
       "</div>"
      ],
      "text/plain": [
       "      Fecha ga:deviceCategory       ga:source     Medium  \\\n",
       "0  20220101           desktop        (direct)     (none)   \n",
       "1  20220101           desktop       (not set)  (not set)   \n",
       "2  20220101           desktop  15069727_8175j      email   \n",
       "3  20220101           desktop  15074217_8176j      email   \n",
       "4  20220101           desktop  15076062_8183j      email   \n",
       "\n",
       "                 Campaña  Sesiones  Transacciones  ga:itemRevenue  \n",
       "0              (not set)      5251            416        43103271  \n",
       "1              (not set)         2              0               0  \n",
       "2  jumboofertas_03122021         5              2          458678  \n",
       "3     despachos_06122021         2              0               0  \n",
       "4         prime_07122021         5              0               0  "
      ]
     },
     "execution_count": 13,
     "metadata": {},
     "output_type": "execute_result"
    }
   ],
   "source": [
    "datos.head()"
   ]
  },
  {
   "cell_type": "markdown",
   "metadata": {},
   "source": [
    "#### Usamos la funcion **datos.to_excel()** para exportar y guardar nuestra data extraída en el directorio local deseado y en formato excel"
   ]
  },
  {
   "cell_type": "code",
   "execution_count": null,
   "metadata": {},
   "outputs": [],
   "source": [
    "#datos.to_excel(\"exportaciones desde API/data.xlsx\")"
   ]
  }
 ],
 "metadata": {
  "kernelspec": {
   "display_name": "Python 3",
   "language": "python",
   "name": "python3"
  },
  "language_info": {
   "codemirror_mode": {
    "name": "ipython",
    "version": 3
   },
   "file_extension": ".py",
   "mimetype": "text/x-python",
   "name": "python",
   "nbconvert_exporter": "python",
   "pygments_lexer": "ipython3",
   "version": "3.7.4"
  }
 },
 "nbformat": 4,
 "nbformat_minor": 5
}
